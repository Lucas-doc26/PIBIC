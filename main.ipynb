{
 "cells": [
  {
   "cell_type": "code",
   "execution_count": null,
   "metadata": {},
   "outputs": [
    {
     "ename": "",
     "evalue": "",
     "output_type": "error",
     "traceback": [
      "\u001b[1;31mRunning cells with 'Python 3.11.0' requires the ipykernel package.\n",
      "\u001b[1;31mRun the following command to install 'ipykernel' into the Python environment. \n",
      "\u001b[1;31mCommand: '/bin/python3.11 -m pip install ipykernel -U --user --force-reinstall'"
     ]
    }
   ],
   "source": [
    "from tensorflow.keras.preprocessing.image import ImageDataGenerator\n",
    "from preprocessamento import preprocessamento\n",
    "\n",
    "def preprocessamento(caminho: str, proporcao_treino: float = 0.6, proporcao_teste: float = 0.2, proporcao_validacao: float = 0.2, autoencoder: bool = False):\n",
    "    \"\"\"\n",
    "    Ao passar um dataFrame .csv, ele irá retornar geradores de dados para treino, teste e validação + os 3 .csv dividos igualmente os geradores.\n",
    "    \n",
    "    Parâmetros:\n",
    "        caminho (str): Caminho para o arquivo CSV.\n",
    "        proporcao_treino (float): Proporção de dados de treino.\n",
    "        proporcao_teste (float): Proporção de dados de teste.\n",
    "        proporcao_validacao (float): Proporção de dados de validação.\n",
    "        autoencoder (bool): Se True, prepara os dados para um autoencoder (class_mode='input').\n",
    "                            Se False, prepara os dados para classificação binária (class_mode='binary').\n",
    "    \n",
    "    Retorna:\n",
    "        treino_gerador, validacao_gerador, teste_gerador, treino, teste, validacao\n",
    "    \"\"\"\n",
    "    dataframe = pd.read_csv(caminho)\n",
    "\n",
    "    treino, teste = train_test_split(dataframe, test_size=proporcao_teste, random_state=42)\n",
    "    treino, validacao = train_test_split(treino, test_size=proporcao_validacao / (1 - proporcao_teste), random_state=42)\n",
    "\n",
    "    img_width, img_height = 256, 256\n",
    "    batch_size = 32\n",
    "\n",
    "    preprocess_input = tf.keras.applications.mobilenet_v3.preprocess_input\n",
    "    treino_datagen = ImageDataGenerator(preprocessing_function=preprocess_input)\n",
    "    validacao_datagen = ImageDataGenerator(preprocessing_function=preprocess_input)\n",
    "    teste_datagen = ImageDataGenerator(preprocessing_function=preprocess_input)\n",
    "\n",
    "    class_mode = 'input' if autoencoder else 'binary'\n",
    "\n",
    "    treino_gerador = treino_datagen.flow_from_dataframe(\n",
    "        dataframe=treino,\n",
    "        x_col='caminho_imagem',\n",
    "        y_col='caminho_imagem' if autoencoder else 'classe', #Usar a imagem como saída se for autoencoder\n",
    "        target_size=(img_width, img_height),\n",
    "        batch_size=batch_size,\n",
    "        class_mode=class_mode,  #Class mode baseado no parâmetro autoencoder\n",
    "        shuffle=True\n",
    "    )\n",
    "\n",
    "    validacao_gerador = validacao_datagen.flow_from_dataframe(\n",
    "        dataframe=validacao,\n",
    "        x_col='caminho_imagem',\n",
    "        y_col='caminho_imagem' if autoencoder else 'classe',  \n",
    "        target_size=(img_width, img_height),\n",
    "        batch_size=batch_size,\n",
    "        class_mode=class_mode, \n",
    "        shuffle=True\n",
    "    )\n",
    "\n",
    "    teste_gerador = teste_datagen.flow_from_dataframe(\n",
    "        dataframe=teste,\n",
    "        x_col='caminho_imagem',\n",
    "        y_col='caminho_imagem' if autoencoder else 'classe',  \n",
    "        target_size=(img_width, img_height),\n",
    "        batch_size=batch_size,\n",
    "        class_mode=class_mode, \n",
    "        shuffle=False\n",
    "    )\n",
    "\n",
    "    return treino_gerador, validacao_gerador, teste_gerador, treino, teste, validacao\n",
    "\n",
    "# Exemplo de uso\n",
    "csv_file = 'Datasets_csv/df_PUC.csv'\n",
    "train, teste, val, _, _, _ = preprocessamento(csv_file, 0.6, 0.2, 0.2, True)"
   ]
  },
  {
   "cell_type": "code",
   "execution_count": null,
   "metadata": {},
   "outputs": [
    {
     "ename": "",
     "evalue": "",
     "output_type": "error",
     "traceback": [
      "\u001b[1;31mRunning cells with 'Python 3.11.0' requires the ipykernel package.\n",
      "\u001b[1;31mRun the following command to install 'ipykernel' into the Python environment. \n",
      "\u001b[1;31mCommand: '/bin/python3.11 -m pip install ipykernel -U --user --force-reinstall'"
     ]
    }
   ],
   "source": [
    "import numpy as np\n",
    "import matplotlib.pyplot as plt\n",
    "\n",
    "# Supondo que você tenha definido test_images e y corretamente após chamar next(train)\n",
    "indice_imagem = 2\n",
    "x_train, _ = next(train)\n",
    "x_test, _ = next(teste)\n",
    "x_val, _ = next(val)\n",
    "\n",
    "n = 10  # Número de imagens a serem exibidas\n",
    "plt.figure(figsize=(20, 4))\n",
    "for i in range(n):\n",
    "    # Mostrar a imagem original\n",
    "    ax = plt.subplot(2, n, i + 1)\n",
    "    plt.imshow(x_train[i].astype(np.uint8))  # Certifique-se de que suas imagens estão no formato correto\n",
    "    plt.axis('off')\n",
    "plt.tight_layout()\n",
    "plt.show()\n"
   ]
  },
  {
   "cell_type": "code",
   "execution_count": null,
   "metadata": {},
   "outputs": [
    {
     "ename": "",
     "evalue": "",
     "output_type": "error",
     "traceback": [
      "\u001b[1;31mRunning cells with 'Python 3.11.0' requires the ipykernel package.\n",
      "\u001b[1;31mRun the following command to install 'ipykernel' into the Python environment. \n",
      "\u001b[1;31mCommand: '/bin/python3.11 -m pip install ipykernel -U --user --force-reinstall'"
     ]
    }
   ],
   "source": [
    "print(\"X_train\", x_train.shape)\n",
    "print(\"X_test\", x_test.shape)"
   ]
  },
  {
   "cell_type": "code",
   "execution_count": null,
   "metadata": {},
   "outputs": [
    {
     "ename": "",
     "evalue": "",
     "output_type": "error",
     "traceback": [
      "\u001b[1;31mRunning cells with 'Python 3.11.0' requires the ipykernel package.\n",
      "\u001b[1;31mRun the following command to install 'ipykernel' into the Python environment. \n",
      "\u001b[1;31mCommand: '/bin/python3.11 -m pip install ipykernel -U --user --force-reinstall'"
     ]
    }
   ],
   "source": [
    "import matplotlib.pyplot as plt\n",
    "\n",
    "def show_data(data, height=256, width=256, title=None, is_encoded=False):\n",
    "    n = 10  # Número de imagens a serem exibidas\n",
    "    plt.figure(figsize=(20, 4))\n",
    "    for i in range(n):\n",
    "        ax = plt.subplot(2, n, i + 1)\n",
    "        if is_encoded:\n",
    "            img = data[i].reshape((height // 16, width // 16))  # Redimensiona para imagem codificada\n",
    "            plt.imshow(img, cmap='gray')\n",
    "        else:\n",
    "            plt.imshow(data[i].reshape((height, width)), cmap='gray')  # Redimensiona para imagem original ou decodificada\n",
    "        plt.title(title)\n",
    "        plt.axis('off')\n",
    "    plt.tight_layout()\n",
    "    plt.show()\n"
   ]
  },
  {
   "cell_type": "code",
   "execution_count": null,
   "metadata": {},
   "outputs": [
    {
     "ename": "",
     "evalue": "",
     "output_type": "error",
     "traceback": [
      "\u001b[1;31mRunning cells with 'Python 3.11.0' requires the ipykernel package.\n",
      "\u001b[1;31mRun the following command to install 'ipykernel' into the Python environment. \n",
      "\u001b[1;31mCommand: '/bin/python3.11 -m pip install ipykernel -U --user --force-reinstall'"
     ]
    }
   ],
   "source": [
    "def pre_process(X):\n",
    "    X = X.reshape((len(X), 256*256*3))\n",
    "    return X\n",
    "\n",
    "X_train  =  pre_process(x_train)\n",
    "X_test  =  pre_process(x_test)\n",
    "\n",
    "print(\"X_train\", X_train.shape)\n",
    "print(\"X_test\", X_test.shape)"
   ]
  },
  {
   "cell_type": "code",
   "execution_count": null,
   "metadata": {},
   "outputs": [
    {
     "ename": "",
     "evalue": "",
     "output_type": "error",
     "traceback": [
      "\u001b[1;31mRunning cells with 'Python 3.11.0' requires the ipykernel package.\n",
      "\u001b[1;31mRun the following command to install 'ipykernel' into the Python environment. \n",
      "\u001b[1;31mCommand: '/bin/python3.11 -m pip install ipykernel -U --user --force-reinstall'"
     ]
    }
   ],
   "source": [
    "# Exibindo exemplos de imagens de treino\n",
    "show_data(X_train, title=\"Exemplos de imagens de treino\")\n",
    "show_data(X_test, title=\"Exemplos de imagens de Teste\")\n"
   ]
  },
  {
   "cell_type": "code",
   "execution_count": null,
   "metadata": {},
   "outputs": [
    {
     "ename": "",
     "evalue": "",
     "output_type": "error",
     "traceback": [
      "\u001b[1;31mRunning cells with 'Python 3.11.0' requires the ipykernel package.\n",
      "\u001b[1;31mRun the following command to install 'ipykernel' into the Python environment. \n",
      "\u001b[1;31mCommand: '/bin/python3.11 -m pip install ipykernel -U --user --force-reinstall'"
     ]
    }
   ],
   "source": [
    "import tensorflow as tf\n",
    "from tensorflow.keras.layers import Input, Dense, Flatten, Reshape\n",
    "from tensorflow.keras.models import Model\n",
    "\n",
    "# Definindo as dimensões\n",
    "input_dim = 196608\n",
    "output_dim = 196608\n",
    "flattened_input_dim = 256 * 256 * 3\n",
    "encode_dim = 100\n",
    "hidden_dim = 256\n"
   ]
  },
  {
   "cell_type": "code",
   "execution_count": null,
   "metadata": {},
   "outputs": [
    {
     "ename": "",
     "evalue": "",
     "output_type": "error",
     "traceback": [
      "\u001b[1;31mRunning cells with 'Python 3.11.0' requires the ipykernel package.\n",
      "\u001b[1;31mRun the following command to install 'ipykernel' into the Python environment. \n",
      "\u001b[1;31mCommand: '/bin/python3.11 -m pip install ipykernel -U --user --force-reinstall'"
     ]
    }
   ],
   "source": [
    "input_layer = Input(shape=(input_dim,), name=\"INPUT\")\n",
    "hidden_layer_1 = Dense(hidden_dim, activation='relu', name=\"HIDDEN_1\")(input_layer)\n",
    "\n",
    "# code\n",
    "code_layer = Dense(encode_dim, activation='relu', name=\"CODE\")(hidden_layer_1)\n",
    "\n",
    "# decoder\n",
    "hidden_layer_2 = Dense(hidden_dim, activation='relu', name=\"HIDDEN_2\")(code_layer)\n",
    "output_layer = Dense(output_dim, activation='sigmoid', name=\"OUTPUT\")(hidden_layer_2)\n",
    "\n",
    "# Construindo o modelo\n",
    "autoencoder = Model(input_layer, output_layer)\n",
    "\n",
    "# Compilando o modelo\n",
    "autoencoder.compile(optimizer='adam', loss='binary_crossentropy')\n",
    "\n",
    "# Sumário do modelo\n",
    "autoencoder.summary()"
   ]
  },
  {
   "cell_type": "code",
   "execution_count": null,
   "metadata": {},
   "outputs": [
    {
     "ename": "",
     "evalue": "",
     "output_type": "error",
     "traceback": [
      "\u001b[1;31mRunning cells with 'Python 3.11.0' requires the ipykernel package.\n",
      "\u001b[1;31mRun the following command to install 'ipykernel' into the Python environment. \n",
      "\u001b[1;31mCommand: '/bin/python3.11 -m pip install ipykernel -U --user --force-reinstall'"
     ]
    }
   ],
   "source": [
    "autoencoder.fit(X_train, X_train, epochs=5)"
   ]
  },
  {
   "cell_type": "code",
   "execution_count": null,
   "metadata": {},
   "outputs": [
    {
     "ename": "",
     "evalue": "",
     "output_type": "error",
     "traceback": [
      "\u001b[1;31mRunning cells with 'Python 3.11.0' requires the ipykernel package.\n",
      "\u001b[1;31mRun the following command to install 'ipykernel' into the Python environment. \n",
      "\u001b[1;31mCommand: '/bin/python3.11 -m pip install ipykernel -U --user --force-reinstall'"
     ]
    }
   ],
   "source": [
    "decoded_data = autoencoder.predict(X_test)\n"
   ]
  },
  {
   "cell_type": "code",
   "execution_count": null,
   "metadata": {},
   "outputs": [
    {
     "ename": "",
     "evalue": "",
     "output_type": "error",
     "traceback": [
      "\u001b[1;31mRunning cells with 'Python 3.11.0' requires the ipykernel package.\n",
      "\u001b[1;31mRun the following command to install 'ipykernel' into the Python environment. \n",
      "\u001b[1;31mCommand: '/bin/python3.11 -m pip install ipykernel -U --user --force-reinstall'"
     ]
    }
   ],
   "source": [
    "get_encoded_data = Model(inputs=autoencoder.input, outputs=autoencoder.get_layer(\"CODE\").output)\n"
   ]
  },
  {
   "cell_type": "code",
   "execution_count": null,
   "metadata": {},
   "outputs": [
    {
     "ename": "",
     "evalue": "",
     "output_type": "error",
     "traceback": [
      "\u001b[1;31mRunning cells with 'Python 3.11.0' requires the ipykernel package.\n",
      "\u001b[1;31mRun the following command to install 'ipykernel' into the Python environment. \n",
      "\u001b[1;31mCommand: '/bin/python3.11 -m pip install ipykernel -U --user --force-reinstall'"
     ]
    }
   ],
   "source": [
    "encoded_data = get_encoded_data.predict(X_test)\n"
   ]
  },
  {
   "cell_type": "code",
   "execution_count": null,
   "metadata": {},
   "outputs": [
    {
     "ename": "",
     "evalue": "",
     "output_type": "error",
     "traceback": [
      "\u001b[1;31mRunning cells with 'Python 3.11.0' requires the ipykernel package.\n",
      "\u001b[1;31mRun the following command to install 'ipykernel' into the Python environment. \n",
      "\u001b[1;31mCommand: '/bin/python3.11 -m pip install ipykernel -U --user --force-reinstall'"
     ]
    }
   ],
   "source": [
    "print(\"Valor mínimo no decoded_data:\", decoded_data.min())\n",
    "print(\"Valor máximo no decoded_data:\", decoded_data.max())\n"
   ]
  },
  {
   "cell_type": "code",
   "execution_count": null,
   "metadata": {},
   "outputs": [
    {
     "ename": "",
     "evalue": "",
     "output_type": "error",
     "traceback": [
      "\u001b[1;31mRunning cells with 'Python 3.11.0' requires the ipykernel package.\n",
      "\u001b[1;31mRun the following command to install 'ipykernel' into the Python environment. \n",
      "\u001b[1;31mCommand: '/bin/python3.11 -m pip install ipykernel -U --user --force-reinstall'"
     ]
    }
   ],
   "source": [
    "def show_data(X, n=10, height=256, width=256, title=\"\", is_encoded=True):\n",
    "    plt.figure(figsize=(15, 3))  # Ajustando o tamanho da figura conforme necessário\n",
    "    for i in range(n):\n",
    "        ax = plt.subplot(2, n, i + 1)\n",
    "        if is_encoded == False:\n",
    "            plt.imshow((X[i]/255.0).reshape((height, width, 3)))  # Reshape para (256, 256, 3) para imagens RGB\n",
    "            ax.get_xaxis().set_visible(False)\n",
    "            ax.get_yaxis().set_visible(False)\n",
    "        else:\n",
    "            num_channels = 3\n",
    "            n_samples = X_raw.shape[0]\n",
    "            X = X_raw.reshape((n_samples, height, width, num_channels))\n",
    "    plt.suptitle(title, fontsize=20)\n",
    "    plt.show()"
   ]
  },
  {
   "cell_type": "code",
   "execution_count": null,
   "metadata": {},
   "outputs": [
    {
     "ename": "",
     "evalue": "",
     "output_type": "error",
     "traceback": [
      "\u001b[1;31mRunning cells with 'Python 3.11.0' requires the ipykernel package.\n",
      "\u001b[1;31mRun the following command to install 'ipykernel' into the Python environment. \n",
      "\u001b[1;31mCommand: '/bin/python3.11 -m pip install ipykernel -U --user --force-reinstall'"
     ]
    }
   ],
   "source": [
    "show_data(X_test, title=\"original data\")\n",
    "show_data(encoded_data, height=256, width=256, title=\"encoded data\", is_encoded=True)\n",
    "show_data(decoded_data, title=\"decoded data\")"
   ]
  }
 ],
 "metadata": {
  "kernelspec": {
   "display_name": "Python 3",
   "language": "python",
   "name": "python3"
  },
  "language_info": {
   "codemirror_mode": {
    "name": "ipython",
    "version": 3
   },
   "file_extension": ".py",
   "mimetype": "text/x-python",
   "name": "python",
   "nbconvert_exporter": "python",
   "pygments_lexer": "ipython3",
   "version": "3.11.0"
  }
 },
 "nbformat": 4,
 "nbformat_minor": 2
}
